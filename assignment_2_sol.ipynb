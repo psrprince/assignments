{
 "cells": [
  {
   "cell_type": "code",
   "execution_count": null,
   "id": "2178c115",
   "metadata": {},
   "outputs": [],
   "source": [
    "1.What are the two values of the Boolean data type? How do you write them?\n",
    "Ans: The two values of the Boolean data type are:\n",
    "•\tTrue - Written as “True”\n",
    "•\tFalse - Written as “False”\n"
   ]
  },
  {
   "cell_type": "code",
   "execution_count": null,
   "id": "80712725",
   "metadata": {},
   "outputs": [],
   "source": [
    "2. What are the three different types of Boolean operators?\n",
    "Ans: The three different types of Boolean operators are:\n",
    "1.\tAND - Typically written as “and”\n",
    "2.\tOR - Typically written as “or”\n",
    "3.\tNOT - Typically written as “not”\n"
   ]
  },
  {
   "cell_type": "code",
   "execution_count": null,
   "id": "055ca914",
   "metadata": {},
   "outputs": [],
   "source": [
    "3. Make a list of each Boolean operator's truth tables (i.e. every possible combination of Boolean values for the operator and what it evaluate ). \n",
    "Ans: \n",
    "•\tAnd operator “and”\n",
    "A\tB\tA and B\n",
    "True\tTrue\tTrue\n",
    "True\tFalse\tFalse\n",
    "False\tTrue\tFalse\n",
    "False\tFalse\tFalse\n",
    "\n",
    "•\tOr operator “or”\n",
    "A\tB\tA or B\n",
    "True\tTrue\tTrue\n",
    "True\tFalse\tTrue\n",
    "False\tTrue\tTrue\n",
    "False\tFalse\tFalse\n",
    "\n",
    "•\tNot operator “not”\n",
    "A\tnot A\n",
    "True\tFalse\n",
    "False\tTrue\n",
    "\n"
   ]
  },
  {
   "cell_type": "code",
   "execution_count": null,
   "id": "df6724a1",
   "metadata": {},
   "outputs": [],
   "source": [
    "4. What are the values of the following expressions?\n",
    "•\t(5 > 4) and (3 == 5): False\n",
    "•\tnot (5 > 4): False\n",
    "•\t(5 > 4) or (3 == 5): True\n",
    "•\tnot ((5 > 4) or (3 == 5)): False\n",
    "•\t(True and True) and (True == False): False\n",
    "•\t(not False) or (not True): True\n"
   ]
  },
  {
   "cell_type": "code",
   "execution_count": null,
   "id": "7c15e5a8",
   "metadata": {},
   "outputs": [],
   "source": [
    "5. What are the six comparison operators?\n",
    "Ans: The six comparison operators in Python are:\n",
    "1.\tEqual to (`==`)\n",
    "2.\tNot equal to (`!=`)\n",
    "3.\tGreater than (`>`)\n",
    "4.\t Less than (`<`)\n",
    "5.\tGreater than or equal to (`>=`)\n",
    "6.\tLess than or equal to (`<=`)\n"
   ]
  },
  {
   "cell_type": "code",
   "execution_count": null,
   "id": "260d66d3",
   "metadata": {},
   "outputs": [],
   "source": [
    "6. How do you tell the difference between the equal to and assignment operators? Describe a condition and when you would use one.\n",
    "Ans: In Python, the equal to operator (`==`) and the assignment operator (`=`) serve different purposes:\n",
    "•\tEqual to Operator (`==`)\n",
    "o\tPurpose: Used to compare two values to see if they are equal.\n",
    "o\tExample: 5 == 5 evaluates to `True` because both sides of the operator are equal.\n",
    "o\tUse: Use `==` when I want to check if two values or variables are the same in a condition or comparison.\n",
    "o\tEx:   if x == 10:\n",
    "             print(\"x is 10\")\n",
    "In this example, the condition checks if the value of `x` is equal to `10`.\n",
    "•\tAssignment Operator (`=`)\n",
    "o\tPurpose: Used to assign a value to a variable.\n",
    "o\tExample: x = 5 assigns the value `5` to the variable `x`.\n",
    "o\tUse: Use `=` when you need to set or change the value of a variable.\n",
    "o\tEx:    x = 10\n",
    "   In this example, `10` is assigned to the variable `x`.\n",
    "•\tCondition and Usage\n",
    "o\tEqual to (`==`):\n",
    "\tScenario: Checking if a user's input matches a specific value.\n",
    "Example:\n",
    "user_input = input(\"Enter your age: \")\n",
    "if user_input == \"18\":\n",
    "    print(\"You are 18 years old.\")\n",
    "\n",
    "o\tAssignment (`=`):\n",
    "\tScenario: Setting or updating the value of a variable.\n",
    "Example:\n",
    "age = 18\n",
    "if age == 18:\n",
    "    print(\"You are 18 years old.\")\n"
   ]
  },
  {
   "cell_type": "code",
   "execution_count": null,
   "id": "e673cb04",
   "metadata": {},
   "outputs": [],
   "source": [
    "7. Identify the three blocks in this code:\n",
    "spam = 0\n",
    "if spam == 10:\n",
    "print('eggs')\n",
    "if spam > 5:\n",
    "print('bacon')\n",
    "else:\n",
    "print('ham')\n",
    "print('spam')\n",
    "print('spam')\n",
    "Ans: \n",
    "•\tBlock 1:\n",
    "if spam == 10:\n",
    "    print(“eggs”)\n",
    "•\tBlock 2: \n",
    "if spam > 5:\n",
    "    print(“bacon”)\n",
    "else:\n",
    "    print(“ham”)\n",
    "•\tBlock 3:\n",
    "print(“spam”)\n",
    "print(“spam”)\n"
   ]
  },
  {
   "cell_type": "code",
   "execution_count": null,
   "id": "ab5b1df7",
   "metadata": {},
   "outputs": [],
   "source": [
    "8. Write code that prints Hello if 1 is stored in spam, prints Howdy if 2 is stored in spam, and prints Greetings! if anything else is stored in spam.\n",
    "Ans:\n",
    "spam = int(input(\"Enter a value for spam: \")) \n",
    "if spam == 1: \n",
    "    print('Hello') \n",
    "elif spam == 2:\n",
    "    print('Howdy') \n",
    "else: \n",
    "    print('Greetings!')\n"
   ]
  },
  {
   "cell_type": "code",
   "execution_count": null,
   "id": "78e5d86f",
   "metadata": {},
   "outputs": [],
   "source": [
    "9. If your programme is stuck in an endless loop, what keys you’ll press?\n",
    "Ans: Press “Ctrl + C” in the terminal or command prompt where the program is running. This sends a Keyboard Interrupt signal to the Python interpreter, which will stop the program.\n"
   ]
  },
  {
   "cell_type": "code",
   "execution_count": null,
   "id": "a5dab00b",
   "metadata": {},
   "outputs": [],
   "source": [
    "10. How can you tell the difference between break and continue?\n",
    "Ans: \n",
    "•\tbreak\n",
    "Exits the current loop entirely and transfers control to the code following the loop.\n",
    "Use break when you want to terminate the loop based on a condition.\n",
    "Ex:\n",
    "for i in range(10): \n",
    "    if i == 5: \n",
    "        break \n",
    "    print(i)\n",
    "•\tcontinue\n",
    "Skips the rest of the code inside the current iteration of the loop and proceeds to the next iteration.\n",
    "Use continue when you want to skip specific iterations of the loop based on a condition but still want to continue looping.\n",
    "Ex: \n",
    "for i in range(10): \n",
    "    if i == 5: \n",
    "        continue \n",
    "    print(i)\n"
   ]
  },
  {
   "cell_type": "code",
   "execution_count": null,
   "id": "99d572f7",
   "metadata": {},
   "outputs": [],
   "source": [
    "11. In a for loop, what is the difference between range(10), range(0, 10), and range(0, 10, 1)?\n",
    "Ans: \n",
    "•\trange(10)\n",
    "Generates numbers from 0 up to, but not including, 10\n",
    "•\trange(0, 10)\n",
    "Generates numbers from 0 up to, but not including, 10. This is the same as range(10) with an explicit start value of 0\n",
    "•\trange(0, 10, 1)\n",
    "Generates numbers from 0 up to, but not including, 10, with a step of 1. This explicitly specifies the start value, stop value, and step size.\n"
   ]
  },
  {
   "cell_type": "code",
   "execution_count": null,
   "id": "d270fc5b",
   "metadata": {},
   "outputs": [],
   "source": [
    "12. Write a short program that prints the numbers 1 to 10 using a for loop. Then write an equivalent program that prints the numbers 1 to 10 using a while loop.\n",
    "Ans: \n",
    "•\tFor loop:\n",
    "for i in range(1, 11): \n",
    "    print(i)\n",
    "•\tWhile loop:\n",
    "i = 1 \n",
    "while i <= 10: \n",
    "    print(i) \n",
    "    i += 1\n"
   ]
  },
  {
   "cell_type": "code",
   "execution_count": null,
   "id": "7798591e",
   "metadata": {},
   "outputs": [],
   "source": [
    "13. If you had a function named bacon() inside a module named spam, how would you call it after importing spam?\n",
    "Ans: \n",
    "import spam \n",
    "spam.bacon()\n"
   ]
  }
 ],
 "metadata": {
  "kernelspec": {
   "display_name": "Python 3 (ipykernel)",
   "language": "python",
   "name": "python3"
  },
  "language_info": {
   "codemirror_mode": {
    "name": "ipython",
    "version": 3
   },
   "file_extension": ".py",
   "mimetype": "text/x-python",
   "name": "python",
   "nbconvert_exporter": "python",
   "pygments_lexer": "ipython3",
   "version": "3.9.13"
  }
 },
 "nbformat": 4,
 "nbformat_minor": 5
}
