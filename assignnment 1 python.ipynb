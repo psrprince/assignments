{
 "cells": [
  {
   "cell_type": "code",
   "execution_count": null,
   "id": "dc75743b",
   "metadata": {},
   "outputs": [],
   "source": [
    "\"\"\"1. In the below elements which of them are values or an expression? \n",
    "eg:- values can be integer or string and expressions will be mathematical operators \"\"\" \n",
    "\n",
    "* = expression\n",
    "\"hello\" = value\n",
    "-87.8 = value\n",
    "- = expression\n",
    "/ = expression\n",
    "+ = expression\n",
    "6 = value"
   ]
  },
  {
   "cell_type": "code",
   "execution_count": null,
   "id": "b83c4046",
   "metadata": {},
   "outputs": [],
   "source": [
    "#2. What is the difference between string and variable?\n",
    "\n",
    "Variable is a named location used to store data in memory\n",
    "wheras Strings are data types sequence of character data, which are created by enclosing charater in quotes.\n",
    "example:\n",
    "    a)x=5, here x is variable and it store a value 5\n",
    "    b)\"hello\" is a string"
   ]
  },
  {
   "cell_type": "code",
   "execution_count": null,
   "id": "eedd2ac5",
   "metadata": {},
   "outputs": [],
   "source": [
    "#3. Describe three different data types.\n",
    "Integers: Integers are whole numbers, without a fractional component. They can be positive or negative.\n",
    "    ex: x=5\n",
    "        y=10\n",
    "Floats: Floats represent real numbers and are written with a decimal point.\n",
    "    ex: x=5.0\n",
    "        y=10.25\n",
    "Strings: Strings in Python are sequences of character data. They are created by enclosing characters in quotes. \n",
    "    ex: x= \"hello\""
   ]
  },
  {
   "cell_type": "code",
   "execution_count": null,
   "id": "9cdce6ba",
   "metadata": {},
   "outputs": [],
   "source": [
    "#4. What is an expression made up of? What do all expressions do?\n",
    "An expression is a combination of operators and operands that is interpreted to produce some other value."
   ]
  },
  {
   "cell_type": "code",
   "execution_count": null,
   "id": "c900e9f9",
   "metadata": {},
   "outputs": [],
   "source": [
    "#5. This assignment statements, like spam = 10. What is the difference between an expression and a statement?\n",
    "A statement in Python is used for creating variables or for displaying values. \n",
    "The expression in Python produces some value or result after being interpreted by the Python interpreter. \n",
    "A statement in Python is not evaluated for some results. \n",
    "An expression in Python is evaluated for some results."
   ]
  },
  {
   "cell_type": "code",
   "execution_count": null,
   "id": "3d281bc7",
   "metadata": {},
   "outputs": [],
   "source": [
    "#6. After running the following code, what does the variable bacon contain?\n",
    "#bacon = 22\n",
    "#bacon + 1\n",
    "Ans: 22"
   ]
  },
  {
   "cell_type": "code",
   "execution_count": null,
   "id": "0fc82721",
   "metadata": {},
   "outputs": [],
   "source": [
    "#7. What should the values of the following two terms be?\n",
    "\"spam\" + \"spamspam\" = 'spamspamspam'\n",
    "\"spam\" * 3 = 'spamspamspam'"
   ]
  },
  {
   "cell_type": "code",
   "execution_count": null,
   "id": "6167d694",
   "metadata": {},
   "outputs": [],
   "source": [
    "#8. Why is eggs a valid variable name while 100 is invalid?\n",
    "Variables can be a combination of letters in lowercase (a to z) or uppercase (A to Z) or digits (0 to 9) or an underscore (_)."
   ]
  },
  {
   "cell_type": "code",
   "execution_count": null,
   "id": "99be45b7",
   "metadata": {},
   "outputs": [],
   "source": [
    "# What three functions can be used to get the integer, floating-point number, or string version of a value?\n",
    "The int(), float(), and str() functions will evaluate to the integer, floating-point number, and string \n",
    "versions of the value passed to them."
   ]
  },
  {
   "cell_type": "code",
   "execution_count": null,
   "id": "1ce4bc6d",
   "metadata": {},
   "outputs": [],
   "source": [
    "#10. Why does this expression cause an error? How can you fix it?\n",
    "\"I have eaten\" + 99 + \"burritos.\"\n",
    "Since here two different data types are being added. 99 is integer and other two are strings"
   ]
  }
 ],
 "metadata": {
  "kernelspec": {
   "display_name": "Python 3 (ipykernel)",
   "language": "python",
   "name": "python3"
  },
  "language_info": {
   "codemirror_mode": {
    "name": "ipython",
    "version": 3
   },
   "file_extension": ".py",
   "mimetype": "text/x-python",
   "name": "python",
   "nbconvert_exporter": "python",
   "pygments_lexer": "ipython3",
   "version": "3.9.13"
  }
 },
 "nbformat": 4,
 "nbformat_minor": 5
}
